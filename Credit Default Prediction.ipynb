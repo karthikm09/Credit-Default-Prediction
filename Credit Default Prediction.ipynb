{
 "cells": [
  {
   "cell_type": "code",
   "execution_count": 1,
   "metadata": {
    "id": "ZOKRx3iKPoKk"
   },
   "outputs": [],
   "source": [
    "#Import Relevant Libraries\n",
    "import numpy as np\n",
    "import pandas as pd\n",
    "#from google.colab import files\n",
    "import io"
   ]
  },
  {
   "cell_type": "code",
   "execution_count": 3,
   "metadata": {
    "colab": {
     "base_uri": "https://localhost:8080/",
     "height": 179
    },
    "id": "wLUGs9kXQDDG",
    "outputId": "024ac0d6-e276-4a23-b311-cdd04ac009dd"
   },
   "outputs": [],
   "source": [
    "# Load your training data set\n",
    "df_train = pd.read_csv('CreditDefault_training.csv')"
   ]
  },
  {
   "cell_type": "code",
   "execution_count": 4,
   "metadata": {
    "colab": {
     "base_uri": "https://localhost:8080/",
     "height": 300
    },
    "id": "MhSvFofmRk6T",
    "outputId": "0da5fc0f-5a55-4c5a-814b-fb59281dddfd"
   },
   "outputs": [
    {
     "data": {
      "text/html": [
       "<div>\n",
       "<style scoped>\n",
       "    .dataframe tbody tr th:only-of-type {\n",
       "        vertical-align: middle;\n",
       "    }\n",
       "\n",
       "    .dataframe tbody tr th {\n",
       "        vertical-align: top;\n",
       "    }\n",
       "\n",
       "    .dataframe thead th {\n",
       "        text-align: right;\n",
       "    }\n",
       "</style>\n",
       "<table border=\"1\" class=\"dataframe\">\n",
       "  <thead>\n",
       "    <tr style=\"text-align: right;\">\n",
       "      <th></th>\n",
       "      <th>LIMIT_BAL</th>\n",
       "      <th>SEX</th>\n",
       "      <th>EDUCATION</th>\n",
       "      <th>MARRIAGE</th>\n",
       "      <th>AGE</th>\n",
       "      <th>PAY_1</th>\n",
       "      <th>PAY_2</th>\n",
       "      <th>PAY_3</th>\n",
       "      <th>PAY_4</th>\n",
       "      <th>PAY_5</th>\n",
       "      <th>...</th>\n",
       "      <th>BILL_AMT4</th>\n",
       "      <th>BILL_AMT5</th>\n",
       "      <th>BILL_AMT6</th>\n",
       "      <th>PAY_AMT1</th>\n",
       "      <th>PAY_AMT2</th>\n",
       "      <th>PAY_AMT3</th>\n",
       "      <th>PAY_AMT4</th>\n",
       "      <th>PAY_AMT5</th>\n",
       "      <th>PAY_AMT6</th>\n",
       "      <th>default.payment.next.month</th>\n",
       "    </tr>\n",
       "  </thead>\n",
       "  <tbody>\n",
       "    <tr>\n",
       "      <th>0</th>\n",
       "      <td>50000</td>\n",
       "      <td>2</td>\n",
       "      <td>2</td>\n",
       "      <td>2</td>\n",
       "      <td>24</td>\n",
       "      <td>-1</td>\n",
       "      <td>-1</td>\n",
       "      <td>-1</td>\n",
       "      <td>-1</td>\n",
       "      <td>0</td>\n",
       "      <td>...</td>\n",
       "      <td>6561</td>\n",
       "      <td>5091</td>\n",
       "      <td>353</td>\n",
       "      <td>1572</td>\n",
       "      <td>1572</td>\n",
       "      <td>6561</td>\n",
       "      <td>102</td>\n",
       "      <td>353</td>\n",
       "      <td>27000</td>\n",
       "      <td>0</td>\n",
       "    </tr>\n",
       "    <tr>\n",
       "      <th>1</th>\n",
       "      <td>70000</td>\n",
       "      <td>2</td>\n",
       "      <td>2</td>\n",
       "      <td>2</td>\n",
       "      <td>24</td>\n",
       "      <td>0</td>\n",
       "      <td>0</td>\n",
       "      <td>0</td>\n",
       "      <td>0</td>\n",
       "      <td>0</td>\n",
       "      <td>...</td>\n",
       "      <td>64733</td>\n",
       "      <td>66680</td>\n",
       "      <td>71243</td>\n",
       "      <td>3000</td>\n",
       "      <td>3000</td>\n",
       "      <td>2500</td>\n",
       "      <td>3000</td>\n",
       "      <td>5800</td>\n",
       "      <td>0</td>\n",
       "      <td>0</td>\n",
       "    </tr>\n",
       "    <tr>\n",
       "      <th>2</th>\n",
       "      <td>420000</td>\n",
       "      <td>1</td>\n",
       "      <td>1</td>\n",
       "      <td>1</td>\n",
       "      <td>43</td>\n",
       "      <td>-2</td>\n",
       "      <td>-2</td>\n",
       "      <td>-2</td>\n",
       "      <td>-2</td>\n",
       "      <td>-2</td>\n",
       "      <td>...</td>\n",
       "      <td>2846</td>\n",
       "      <td>3027</td>\n",
       "      <td>5946</td>\n",
       "      <td>14274</td>\n",
       "      <td>8232</td>\n",
       "      <td>2853</td>\n",
       "      <td>3027</td>\n",
       "      <td>5946</td>\n",
       "      <td>32053</td>\n",
       "      <td>0</td>\n",
       "    </tr>\n",
       "    <tr>\n",
       "      <th>3</th>\n",
       "      <td>30000</td>\n",
       "      <td>1</td>\n",
       "      <td>2</td>\n",
       "      <td>3</td>\n",
       "      <td>53</td>\n",
       "      <td>1</td>\n",
       "      <td>-2</td>\n",
       "      <td>-1</td>\n",
       "      <td>2</td>\n",
       "      <td>0</td>\n",
       "      <td>...</td>\n",
       "      <td>3825</td>\n",
       "      <td>3825</td>\n",
       "      <td>0</td>\n",
       "      <td>0</td>\n",
       "      <td>4070</td>\n",
       "      <td>0</td>\n",
       "      <td>0</td>\n",
       "      <td>0</td>\n",
       "      <td>0</td>\n",
       "      <td>1</td>\n",
       "    </tr>\n",
       "    <tr>\n",
       "      <th>4</th>\n",
       "      <td>50000</td>\n",
       "      <td>2</td>\n",
       "      <td>2</td>\n",
       "      <td>1</td>\n",
       "      <td>49</td>\n",
       "      <td>1</td>\n",
       "      <td>2</td>\n",
       "      <td>2</td>\n",
       "      <td>2</td>\n",
       "      <td>0</td>\n",
       "      <td>...</td>\n",
       "      <td>21951</td>\n",
       "      <td>22287</td>\n",
       "      <td>22778</td>\n",
       "      <td>1000</td>\n",
       "      <td>3321</td>\n",
       "      <td>0</td>\n",
       "      <td>1000</td>\n",
       "      <td>1000</td>\n",
       "      <td>1001</td>\n",
       "      <td>0</td>\n",
       "    </tr>\n",
       "  </tbody>\n",
       "</table>\n",
       "<p>5 rows × 24 columns</p>\n",
       "</div>"
      ],
      "text/plain": [
       "   LIMIT_BAL  SEX  EDUCATION  MARRIAGE  AGE  PAY_1  PAY_2  PAY_3  PAY_4  \\\n",
       "0      50000    2          2         2   24     -1     -1     -1     -1   \n",
       "1      70000    2          2         2   24      0      0      0      0   \n",
       "2     420000    1          1         1   43     -2     -2     -2     -2   \n",
       "3      30000    1          2         3   53      1     -2     -1      2   \n",
       "4      50000    2          2         1   49      1      2      2      2   \n",
       "\n",
       "   PAY_5  ...  BILL_AMT4  BILL_AMT5  BILL_AMT6  PAY_AMT1  PAY_AMT2  PAY_AMT3  \\\n",
       "0      0  ...       6561       5091        353      1572      1572      6561   \n",
       "1      0  ...      64733      66680      71243      3000      3000      2500   \n",
       "2     -2  ...       2846       3027       5946     14274      8232      2853   \n",
       "3      0  ...       3825       3825          0         0      4070         0   \n",
       "4      0  ...      21951      22287      22778      1000      3321         0   \n",
       "\n",
       "   PAY_AMT4  PAY_AMT5  PAY_AMT6  default.payment.next.month  \n",
       "0       102       353     27000                           0  \n",
       "1      3000      5800         0                           0  \n",
       "2      3027      5946     32053                           0  \n",
       "3         0         0         0                           1  \n",
       "4      1000      1000      1001                           0  \n",
       "\n",
       "[5 rows x 24 columns]"
      ]
     },
     "execution_count": 4,
     "metadata": {},
     "output_type": "execute_result"
    }
   ],
   "source": [
    "df_train.head()"
   ]
  },
  {
   "cell_type": "code",
   "execution_count": 5,
   "metadata": {
    "id": "LYPHIV6FSUI2"
   },
   "outputs": [],
   "source": [
    "# Split training data into X and y\n",
    "X=df_train.drop(['default.payment.next.month'],axis=1)\n",
    "y=df_train['default.payment.next.month']"
   ]
  },
  {
   "cell_type": "markdown",
   "metadata": {
    "id": "Uj3pFsrv_mv9"
   },
   "source": [
    "Standardization and one-hot encoding for training set and test set"
   ]
  },
  {
   "cell_type": "code",
   "execution_count": 6,
   "metadata": {
    "id": "zPKfTRyiKueh"
   },
   "outputs": [],
   "source": [
    "# Load test data set\n",
    "df_test = pd.read_csv('CreditDefault_Xtest.csv')"
   ]
  },
  {
   "cell_type": "code",
   "execution_count": 7,
   "metadata": {
    "id": "dOrWKfdlK-_z"
   },
   "outputs": [],
   "source": [
    "#standardization and one-hot encoding \n",
    "from sklearn.preprocessing import StandardScaler\n",
    "scaler = StandardScaler()\n",
    "\n",
    "cat_col=['SEX', 'EDUCATION', 'MARRIAGE', 'PAY_1', 'PAY_2', 'PAY_3', 'PAY_4', 'PAY_5', 'PAY_6']\n",
    "\n",
    "for i in X.columns:\n",
    "  if(i not in cat_col):\n",
    "    X[i]=scaler.fit_transform(X[[i]]).ravel()\n",
    "    df_test[i]=scaler.transform(df_test[[i]]).ravel()\n",
    "\n",
    "X=pd.get_dummies(X,columns=cat_col)\n",
    "\n",
    "df_test=pd.get_dummies(df_test,columns=cat_col)\n",
    "df_test = df_test.reindex(columns = X.columns, fill_value=0)"
   ]
  },
  {
   "cell_type": "markdown",
   "metadata": {
    "id": "D_e0eeNz55Cg"
   },
   "source": [
    "**Splitting training data into training and validation set (70:30 ratio) (the code has been provided)**"
   ]
  },
  {
   "cell_type": "code",
   "execution_count": 8,
   "metadata": {
    "id": "dveoLnWM7mt4"
   },
   "outputs": [],
   "source": [
    "from sklearn.model_selection import train_test_split\n",
    "X_train, X_val, y_train, y_val = train_test_split(X, y, test_size=0.3, random_state=42)"
   ]
  },
  {
   "cell_type": "markdown",
   "metadata": {
    "id": "-BteEz3T83c7"
   },
   "source": [
    "Print the shape of X_train, y_train, X_val"
   ]
  },
  {
   "cell_type": "code",
   "execution_count": 9,
   "metadata": {
    "colab": {
     "base_uri": "https://localhost:8080/"
    },
    "id": "IAmEc8hJ86sF",
    "outputId": "8e7704f9-924e-49cb-c3e6-1a7c9ff77ed5"
   },
   "outputs": [
    {
     "name": "stdout",
     "output_type": "stream",
     "text": [
      "(2789, 82)\n",
      "(2789,)\n",
      "(1196, 82)\n"
     ]
    }
   ],
   "source": [
    "print(X_train.shape)\n",
    "print(y_train.shape)\n",
    "print(X_val.shape)"
   ]
  },
  {
   "cell_type": "markdown",
   "metadata": {
    "id": "6D2n5k-L-BrM"
   },
   "source": [
    "## Logistic Regression"
   ]
  },
  {
   "cell_type": "code",
   "execution_count": 10,
   "metadata": {
    "id": "NNJEfTx8-Mqj"
   },
   "outputs": [],
   "source": [
    "from sklearn.linear_model import LogisticRegression"
   ]
  },
  {
   "cell_type": "code",
   "execution_count": 11,
   "metadata": {
    "colab": {
     "base_uri": "https://localhost:8080/"
    },
    "id": "236FjZN8-S8x",
    "outputId": "05f094c4-a53a-4aa0-cea9-29809c3159c0"
   },
   "outputs": [
    {
     "name": "stderr",
     "output_type": "stream",
     "text": [
      "C:\\Users\\karth\\anaconda3\\lib\\site-packages\\sklearn\\linear_model\\_logistic.py:814: ConvergenceWarning: lbfgs failed to converge (status=1):\n",
      "STOP: TOTAL NO. of ITERATIONS REACHED LIMIT.\n",
      "\n",
      "Increase the number of iterations (max_iter) or scale the data as shown in:\n",
      "    https://scikit-learn.org/stable/modules/preprocessing.html\n",
      "Please also refer to the documentation for alternative solver options:\n",
      "    https://scikit-learn.org/stable/modules/linear_model.html#logistic-regression\n",
      "  n_iter_i = _check_optimize_result(\n"
     ]
    },
    {
     "data": {
      "text/plain": [
       "LogisticRegression()"
      ]
     },
     "execution_count": 11,
     "metadata": {},
     "output_type": "execute_result"
    }
   ],
   "source": [
    "# First, initialize the classifier with default parameters\n",
    "# then fit the classifier on training data and labels\n",
    "\n",
    "### WRITE CODE HERE ###\n",
    "lr=LogisticRegression()\n",
    "lr.fit(X_train,y_train)"
   ]
  },
  {
   "cell_type": "code",
   "execution_count": 12,
   "metadata": {
    "colab": {
     "base_uri": "https://localhost:8080/"
    },
    "id": "RpE2jWXEFgW1",
    "outputId": "82230446-3615-4574-8ba9-cde3cabf1929"
   },
   "outputs": [
    {
     "data": {
      "text/plain": [
       "LogisticRegression(max_iter=200, random_state=42)"
      ]
     },
     "execution_count": 12,
     "metadata": {},
     "output_type": "execute_result"
    }
   ],
   "source": [
    "# If there is any ConvergenceWarning, increase the number of iterations. (Let max_iter = 200)\n",
    "### WRITE CODE HERE ###\n",
    "lr=LogisticRegression(max_iter=200,random_state=42)\n",
    "lr.fit(X_train,y_train)"
   ]
  },
  {
   "cell_type": "code",
   "execution_count": 13,
   "metadata": {
    "colab": {
     "base_uri": "https://localhost:8080/"
    },
    "id": "UKR98kFw_lQO",
    "outputId": "55b1b0c7-d508-40cf-ed06-af0a46b26c43"
   },
   "outputs": [
    {
     "name": "stdout",
     "output_type": "stream",
     "text": [
      "[0 0 1 ... 0 0 0]\n"
     ]
    }
   ],
   "source": [
    "# predict the output for validation dataset\n",
    "### WRITE CODE HERE\n",
    "pred_val=lr.predict(X_val)\n",
    "print(pred_val)"
   ]
  },
  {
   "cell_type": "code",
   "execution_count": 14,
   "metadata": {
    "id": "SC-_P6AoAuQJ"
   },
   "outputs": [],
   "source": [
    "def my_precision(y, y_preds): #TP/(TP+FP)\n",
    "    tp=sum(np.bitwise_and(y==1,y_preds==1))\n",
    "    fp=sum(np.bitwise_and(y==0,y_preds==1))\n",
    "    return tp/(tp+fp)\n",
    "\n",
    "def my_recall(y, y_preds): #TP/(TP+FN)\n",
    "    tp=sum(np.bitwise_and(y==1,y_preds==1))\n",
    "    fn=sum(np.bitwise_and(y==1,y_preds==0))\n",
    "    return tp/(tp+fn)\n",
    "\n",
    "\n",
    "def my_accuracy(y, y_preds): #(TP+TN)/(TP+FP+FN+TN)\n",
    "    tp=sum(np.bitwise_and(y==1,y_preds==1))\n",
    "    tn=sum(np.bitwise_and(y==0,y_preds==0))\n",
    "    fp=sum(np.bitwise_and(y==0,y_preds==1))\n",
    "    fn=sum(np.bitwise_and(y==1,y_preds==0))\n",
    "    return (tp+tn)/(tp+fp+fn+tn)"
   ]
  },
  {
   "cell_type": "code",
   "execution_count": 15,
   "metadata": {
    "colab": {
     "base_uri": "https://localhost:8080/"
    },
    "id": "MsQSYMcaMl1S",
    "outputId": "6eefd95d-4ab8-477b-e21a-51508d69b64d"
   },
   "outputs": [
    {
     "name": "stdout",
     "output_type": "stream",
     "text": [
      "Precision is 0.6610169491525424\n",
      "Recall is 0.43333333333333335\n",
      "Accuracy is 0.8219063545150501\n"
     ]
    }
   ],
   "source": [
    "print('Precision is',my_precision(y_val,pred_val))\n",
    "print('Recall is',my_recall(y_val,pred_val))\n",
    "print('Accuracy is',my_accuracy(y_val,pred_val))"
   ]
  },
  {
   "cell_type": "markdown",
   "metadata": {
    "id": "RKXWHHJ1OsMZ"
   },
   "source": [
    "Q. Accuracy<br>\n",
    "Ans - 0.82\n",
    "\n",
    "Q. Precision<br>\n",
    "Ans - 0.66\n",
    "\n",
    "Q. Recall<br>\n",
    "Ans - 0.43\n",
    "\n",
    "In this case, we would like to use recall as from the company's perspective, it is more important to predict the default and capture the potential defaults from the model to reduce the risk of default in the future. However, the other two metrics are also relevant."
   ]
  },
  {
   "cell_type": "markdown",
   "metadata": {
    "id": "6Bflc8MVP3K7"
   },
   "source": [
    "### ROC curve"
   ]
  },
  {
   "cell_type": "code",
   "execution_count": 16,
   "metadata": {
    "colab": {
     "base_uri": "https://localhost:8080/",
     "height": 297
    },
    "id": "51E1Wc2QQDqt",
    "outputId": "fd8407af-1f2b-40d3-b632-0d3456d1d055"
   },
   "outputs": [
    {
     "name": "stdout",
     "output_type": "stream",
     "text": [
      "AUC: 0.767\n"
     ]
    },
    {
     "data": {
      "image/png": "[encoded data removed]",
      "text/plain": [
       "<Figure size 640x480 with 1 Axes>"
      ]
     },
     "metadata": {},
     "output_type": "display_data"
    }
   ],
   "source": [
    "# Plot the ROC curve by giving appropriate names for title and axes. \n",
    "from sklearn.metrics import roc_curve,roc_auc_score\n",
    "import sklearn.metrics as metrics\n",
    "\n",
    "pred_val_prob=lr.predict_proba(X_val)\n",
    "fpr, tpr, _ = roc_curve(y_val, pred_val_prob[:,1])\n",
    "auc = roc_auc_score(y_val, pred_val_prob[:,1])\n",
    "print('AUC: %.3f' % auc)\n",
    "\n",
    "import matplotlib.pyplot as plt\n",
    "\n",
    "plt.plot(fpr, tpr, label='Logistic Regression')\n",
    "plt.xlabel('False Positive Rate')\n",
    "plt.ylabel('True Positive Rate')\n",
    "plt.legend()\n",
    "plt.show()"
   ]
  },
  {
   "cell_type": "markdown",
   "metadata": {
    "id": "OK9uSsm4Qdfu"
   },
   "source": [
    "Q. What is the AUC obtained?<br>\n",
    "Ans - 0.767"
   ]
  },
  {
   "cell_type": "markdown",
   "metadata": {
    "id": "E9X_maKDT63P"
   },
   "source": [
    "## Hyperparameter Tuning"
   ]
  },
  {
   "cell_type": "code",
   "execution_count": 17,
   "metadata": {
    "colab": {
     "base_uri": "https://localhost:8080/"
    },
    "id": "1n6cx2_KUFYw",
    "outputId": "021195c7-67ae-4185-ccd6-4a74ec446903"
   },
   "outputs": [
    {
     "name": "stdout",
     "output_type": "stream",
     "text": [
      "Precision is 0.6804733727810651\n",
      "Recall is 0.42592592592592593\n",
      "Accuracy is 0.8252508361204013\n"
     ]
    }
   ],
   "source": [
    "lr_a=LogisticRegression(penalty='l1',C=0.1,solver='liblinear')\n",
    "lr_a.fit(X_train,y_train)\n",
    "pred_val_a=lr_a.predict(X_val)\n",
    "print('Precision is', my_precision(y_val,pred_val_a))\n",
    "print('Recall is', my_recall(y_val,pred_val_a))\n",
    "print('Accuracy is',my_accuracy(y_val,pred_val_a))\n"
   ]
  },
  {
   "cell_type": "code",
   "execution_count": 18,
   "metadata": {
    "colab": {
     "base_uri": "https://localhost:8080/"
    },
    "id": "3fnH0Pt9U8KT",
    "outputId": "18d297a4-1e83-45f5-ca05-eceeddd42e94"
   },
   "outputs": [
    {
     "name": "stdout",
     "output_type": "stream",
     "text": [
      "Precision is 0.6685714285714286\n",
      "Recall is 0.43333333333333335\n",
      "Accuracy is 0.8235785953177257\n"
     ]
    }
   ],
   "source": [
    "lr_b=LogisticRegression(penalty='l1',C=0.5,solver='liblinear')\n",
    "lr_b.fit(X_train,y_train)\n",
    "pred_val_b=lr_b.predict(X_val)\n",
    "print('Precision is', my_precision(y_val,pred_val_b))\n",
    "print('Recall is',my_recall(y_val,pred_val_b))\n",
    "print('Accuracy is',my_accuracy(y_val,pred_val_b))\n"
   ]
  },
  {
   "cell_type": "code",
   "execution_count": 19,
   "metadata": {
    "colab": {
     "base_uri": "https://localhost:8080/"
    },
    "id": "x6Tvpz7wVPAW",
    "outputId": "afe6b583-d04d-4926-964e-db0961524151"
   },
   "outputs": [
    {
     "name": "stdout",
     "output_type": "stream",
     "text": [
      "Precision is 0.6627906976744186\n",
      "Recall is 0.4222222222222222\n",
      "Accuracy is 0.8210702341137124\n"
     ]
    }
   ],
   "source": [
    "lr_c=LogisticRegression(penalty='l2',C=0.1)\n",
    "lr_c.fit(X_train,y_train)\n",
    "pred_val_c=lr_c.predict(X_val)\n",
    "print('Precision is',my_precision(y_val,pred_val_c))\n",
    "print('Recall is',my_recall(y_val,pred_val_c))\n",
    "print('Accuracy is',my_accuracy(y_val,pred_val_c))\n"
   ]
  },
  {
   "cell_type": "code",
   "execution_count": 20,
   "metadata": {
    "colab": {
     "base_uri": "https://localhost:8080/"
    },
    "id": "9ggEfBX4VZdM",
    "outputId": "50658ad8-1e76-49c7-edb9-af4ea0041b5a"
   },
   "outputs": [
    {
     "name": "stdout",
     "output_type": "stream",
     "text": [
      "Precision is 0.6647727272727273\n",
      "Recall is 0.43333333333333335\n",
      "Accuracy is 0.822742474916388\n"
     ]
    },
    {
     "name": "stderr",
     "output_type": "stream",
     "text": [
      "C:\\Users\\karth\\anaconda3\\lib\\site-packages\\sklearn\\linear_model\\_logistic.py:814: ConvergenceWarning: lbfgs failed to converge (status=1):\n",
      "STOP: TOTAL NO. of ITERATIONS REACHED LIMIT.\n",
      "\n",
      "Increase the number of iterations (max_iter) or scale the data as shown in:\n",
      "    https://scikit-learn.org/stable/modules/preprocessing.html\n",
      "Please also refer to the documentation for alternative solver options:\n",
      "    https://scikit-learn.org/stable/modules/linear_model.html#logistic-regression\n",
      "  n_iter_i = _check_optimize_result(\n"
     ]
    }
   ],
   "source": [
    "lr_d=LogisticRegression(penalty='l2',C=0.5)\n",
    "lr_d.fit(X_train,y_train)\n",
    "pred_val_d=lr_d.predict(X_val)\n",
    "print('Precision is',my_precision(y_val,pred_val_d))\n",
    "print('Recall is', my_recall(y_val,pred_val_d))\n",
    "print('Accuracy is',my_accuracy(y_val,pred_val_d))\n"
   ]
  },
  {
   "cell_type": "markdown",
   "metadata": {
    "id": "bXnNF73CWpYz"
   },
   "source": [
    "__Best Model__\n",
    "\n",
    "lr_b with C=0.5 and L1 as it has the highest recall and accuracy."
   ]
  },
  {
   "cell_type": "code",
   "execution_count": 21,
   "metadata": {
    "id": "vJWNXQvHXKuM"
   },
   "outputs": [],
   "source": [
    "# Construct your final logistic regression using the best hyperparameters obtained above (C and penalty) ###\n",
    "lr_final=LogisticRegression(penalty='l1',C=0.5,solver='liblinear')\n",
    "lr_final.fit(X_train,y_train)\n",
    "# return the prediction as \"y_pred\"\n",
    "y_pred=lr_final.predict(df_test)"
   ]
  }
 ],
 "metadata": {
  "colab": {
   "provenance": []
  },
  "kernelspec": {
   "display_name": "Python 3 (ipykernel)",
   "language": "python",
   "name": "python3"
  },
  "language_info": {
   "codemirror_mode": {
    "name": "ipython",
    "version": 3
   },
   "file_extension": ".py",
   "mimetype": "text/x-python",
   "name": "python",
   "nbconvert_exporter": "python",
   "pygments_lexer": "ipython3",
   "version": "3.9.13"
  }
 },
 "nbformat": 4,
 "nbformat_minor": 4
}
